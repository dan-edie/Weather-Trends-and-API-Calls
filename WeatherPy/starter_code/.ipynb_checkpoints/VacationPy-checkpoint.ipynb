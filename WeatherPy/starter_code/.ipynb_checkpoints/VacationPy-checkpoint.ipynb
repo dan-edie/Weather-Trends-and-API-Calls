{
 "cells": [
  {
   "cell_type": "markdown",
   "metadata": {},
   "source": [
    "# VacationPy\n",
    "----\n",
    "\n",
    "#### Note\n",
    "* Instructions have been included for each segment. You do not have to follow them exactly, but they are included to help you think through the steps."
   ]
  },
  {
   "cell_type": "code",
   "execution_count": 89,
   "metadata": {},
   "outputs": [],
   "source": [
    "# Dependencies and Setup\n",
    "import matplotlib.pyplot as plt\n",
    "import pandas as pd\n",
    "import numpy as np\n",
    "import requests\n",
    "import gmaps\n",
    "import os\n",
    "import json\n",
    "\n",
    "# Import API key\n",
    "import sys\n",
    "sys.path.insert(0, \"/Users/Iceda/OneDrive/Desktop/ClassHomework/keys\")\n",
    "from api_keys import g_key\n",
    "\n",
    "# Configure gmaps\n",
    "gmaps.configure(api_key=g_key)"
   ]
  },
  {
   "cell_type": "markdown",
   "metadata": {},
   "source": [
    "### Store Part I results into DataFrame\n",
    "* Load the csv exported in Part I to a DataFrame"
   ]
  },
  {
   "cell_type": "code",
   "execution_count": 90,
   "metadata": {},
   "outputs": [
    {
     "data": {
      "text/html": [
       "<div>\n",
       "<style scoped>\n",
       "    .dataframe tbody tr th:only-of-type {\n",
       "        vertical-align: middle;\n",
       "    }\n",
       "\n",
       "    .dataframe tbody tr th {\n",
       "        vertical-align: top;\n",
       "    }\n",
       "\n",
       "    .dataframe thead th {\n",
       "        text-align: right;\n",
       "    }\n",
       "</style>\n",
       "<table border=\"1\" class=\"dataframe\">\n",
       "  <thead>\n",
       "    <tr style=\"text-align: right;\">\n",
       "      <th></th>\n",
       "      <th>City_ID</th>\n",
       "      <th>City</th>\n",
       "      <th>Country</th>\n",
       "      <th>Datetime</th>\n",
       "      <th>Lat</th>\n",
       "      <th>Lng</th>\n",
       "      <th>Temperature</th>\n",
       "      <th>Humidity</th>\n",
       "      <th>Cloud Coverage</th>\n",
       "      <th>Wind Speed</th>\n",
       "    </tr>\n",
       "  </thead>\n",
       "  <tbody>\n",
       "    <tr>\n",
       "      <th>0</th>\n",
       "      <td>0</td>\n",
       "      <td>taolanaro</td>\n",
       "      <td>IN</td>\n",
       "      <td>2020-04-15 04:32:38</td>\n",
       "      <td>21.12</td>\n",
       "      <td>70.12</td>\n",
       "      <td>91.38</td>\n",
       "      <td>35.0</td>\n",
       "      <td>18.0</td>\n",
       "      <td>11.97</td>\n",
       "    </tr>\n",
       "    <tr>\n",
       "      <th>1</th>\n",
       "      <td>1</td>\n",
       "      <td>mangrol</td>\n",
       "      <td>GB</td>\n",
       "      <td>2020-04-15 04:32:38</td>\n",
       "      <td>54.33</td>\n",
       "      <td>-2.75</td>\n",
       "      <td>41.00</td>\n",
       "      <td>80.0</td>\n",
       "      <td>90.0</td>\n",
       "      <td>1.99</td>\n",
       "    </tr>\n",
       "    <tr>\n",
       "      <th>2</th>\n",
       "      <td>2</td>\n",
       "      <td>kendal</td>\n",
       "      <td>MV</td>\n",
       "      <td>2020-04-15 04:32:38</td>\n",
       "      <td>-0.60</td>\n",
       "      <td>73.08</td>\n",
       "      <td>84.97</td>\n",
       "      <td>65.0</td>\n",
       "      <td>34.0</td>\n",
       "      <td>1.86</td>\n",
       "    </tr>\n",
       "    <tr>\n",
       "      <th>3</th>\n",
       "      <td>3</td>\n",
       "      <td>hithadhoo</td>\n",
       "      <td>CN</td>\n",
       "      <td>2020-04-15 04:32:38</td>\n",
       "      <td>45.55</td>\n",
       "      <td>131.88</td>\n",
       "      <td>54.39</td>\n",
       "      <td>34.0</td>\n",
       "      <td>0.0</td>\n",
       "      <td>10.07</td>\n",
       "    </tr>\n",
       "    <tr>\n",
       "      <th>4</th>\n",
       "      <td>4</td>\n",
       "      <td>tabiauea</td>\n",
       "      <td>GL</td>\n",
       "      <td>2020-04-15 04:32:38</td>\n",
       "      <td>65.61</td>\n",
       "      <td>-37.64</td>\n",
       "      <td>24.80</td>\n",
       "      <td>68.0</td>\n",
       "      <td>2.0</td>\n",
       "      <td>1.12</td>\n",
       "    </tr>\n",
       "  </tbody>\n",
       "</table>\n",
       "</div>"
      ],
      "text/plain": [
       "   City_ID       City Country             Datetime    Lat     Lng  \\\n",
       "0        0  taolanaro      IN  2020-04-15 04:32:38  21.12   70.12   \n",
       "1        1    mangrol      GB  2020-04-15 04:32:38  54.33   -2.75   \n",
       "2        2     kendal      MV  2020-04-15 04:32:38  -0.60   73.08   \n",
       "3        3  hithadhoo      CN  2020-04-15 04:32:38  45.55  131.88   \n",
       "4        4   tabiauea      GL  2020-04-15 04:32:38  65.61  -37.64   \n",
       "\n",
       "   Temperature  Humidity  Cloud Coverage  Wind Speed  \n",
       "0        91.38      35.0            18.0       11.97  \n",
       "1        41.00      80.0            90.0        1.99  \n",
       "2        84.97      65.0            34.0        1.86  \n",
       "3        54.39      34.0             0.0       10.07  \n",
       "4        24.80      68.0             2.0        1.12  "
      ]
     },
     "execution_count": 90,
     "metadata": {},
     "output_type": "execute_result"
    }
   ],
   "source": [
    "weather_df = pd.read_csv(\"../output_data/weather_data.csv\")\n",
    "\n",
    "weather_df.head()"
   ]
  },
  {
   "cell_type": "markdown",
   "metadata": {},
   "source": [
    "### Humidity Heatmap\n",
    "* Configure gmaps.\n",
    "* Use the Lat and Lng as locations and Humidity as the weight.\n",
    "* Add Heatmap layer to map."
   ]
  },
  {
   "cell_type": "code",
   "execution_count": 91,
   "metadata": {},
   "outputs": [],
   "source": [
    "# Store latitude and longitude in locations\n",
    "places = weather_df[[\"Lat\", \"Lng\"]]\n",
    "\n",
    "# Fill NaN values and convert to float\n",
    "humidity = weather_df.Humidity.astype('float')"
   ]
  },
  {
   "cell_type": "code",
   "execution_count": 92,
   "metadata": {},
   "outputs": [
    {
     "data": {
      "application/vnd.jupyter.widget-view+json": {
       "model_id": "739295e80ccd4c0dbc86e6a9bd9e6fd0",
       "version_major": 2,
       "version_minor": 0
      },
      "text/plain": [
       "Figure(layout=FigureLayout(height='420px'))"
      ]
     },
     "metadata": {},
     "output_type": "display_data"
    }
   ],
   "source": [
    "# Plot Heatmap\n",
    "fig = gmaps.figure(center = (0,0), zoom_level = 2)\n",
    "\n",
    "# Create heat layer\n",
    "heat_layer = gmaps.heatmap_layer(places, weights=humidity, \n",
    "                                 dissipating=False, max_intensity=humidity.max(),\n",
    "                                 point_radius=2)\n",
    "\n",
    "\n",
    "# Add layer\n",
    "fig.add_layer(heat_layer)\n",
    "\n",
    "# Display figure\n",
    "fig"
   ]
  },
  {
   "cell_type": "markdown",
   "metadata": {},
   "source": [
    "### Create new DataFrame fitting weather criteria\n",
    "* Narrow down the cities to fit weather conditions.\n",
    "* Drop any rows will null values."
   ]
  },
  {
   "cell_type": "code",
   "execution_count": 93,
   "metadata": {},
   "outputs": [
    {
     "data": {
      "text/html": [
       "<div>\n",
       "<style scoped>\n",
       "    .dataframe tbody tr th:only-of-type {\n",
       "        vertical-align: middle;\n",
       "    }\n",
       "\n",
       "    .dataframe tbody tr th {\n",
       "        vertical-align: top;\n",
       "    }\n",
       "\n",
       "    .dataframe thead th {\n",
       "        text-align: right;\n",
       "    }\n",
       "</style>\n",
       "<table border=\"1\" class=\"dataframe\">\n",
       "  <thead>\n",
       "    <tr style=\"text-align: right;\">\n",
       "      <th></th>\n",
       "      <th>City_ID</th>\n",
       "      <th>City</th>\n",
       "      <th>Country</th>\n",
       "      <th>Datetime</th>\n",
       "      <th>Lat</th>\n",
       "      <th>Lng</th>\n",
       "      <th>Temperature</th>\n",
       "      <th>Humidity</th>\n",
       "      <th>Cloud Coverage</th>\n",
       "      <th>Wind Speed</th>\n",
       "    </tr>\n",
       "  </thead>\n",
       "  <tbody>\n",
       "    <tr>\n",
       "      <th>139</th>\n",
       "      <td>139</td>\n",
       "      <td>beisfjord</td>\n",
       "      <td>CN</td>\n",
       "      <td>2020-04-15 04:33:02</td>\n",
       "      <td>27.73</td>\n",
       "      <td>112.53</td>\n",
       "      <td>79.03</td>\n",
       "      <td>48.0</td>\n",
       "      <td>0.0</td>\n",
       "      <td>8.37</td>\n",
       "    </tr>\n",
       "    <tr>\n",
       "      <th>143</th>\n",
       "      <td>143</td>\n",
       "      <td>constitucion</td>\n",
       "      <td>CN</td>\n",
       "      <td>2020-04-15 04:33:02</td>\n",
       "      <td>30.30</td>\n",
       "      <td>108.85</td>\n",
       "      <td>71.58</td>\n",
       "      <td>30.0</td>\n",
       "      <td>0.0</td>\n",
       "      <td>2.93</td>\n",
       "    </tr>\n",
       "    <tr>\n",
       "      <th>217</th>\n",
       "      <td>217</td>\n",
       "      <td>deputatskiy</td>\n",
       "      <td>NG</td>\n",
       "      <td>2020-04-15 04:33:15</td>\n",
       "      <td>12.87</td>\n",
       "      <td>11.05</td>\n",
       "      <td>77.00</td>\n",
       "      <td>15.0</td>\n",
       "      <td>0.0</td>\n",
       "      <td>9.13</td>\n",
       "    </tr>\n",
       "    <tr>\n",
       "      <th>358</th>\n",
       "      <td>358</td>\n",
       "      <td>ibra</td>\n",
       "      <td>SA</td>\n",
       "      <td>2020-04-15 04:33:38</td>\n",
       "      <td>25.02</td>\n",
       "      <td>37.27</td>\n",
       "      <td>74.79</td>\n",
       "      <td>45.0</td>\n",
       "      <td>0.0</td>\n",
       "      <td>7.76</td>\n",
       "    </tr>\n",
       "    <tr>\n",
       "      <th>540</th>\n",
       "      <td>540</td>\n",
       "      <td>mersing</td>\n",
       "      <td>CN</td>\n",
       "      <td>2020-04-15 04:34:08</td>\n",
       "      <td>27.81</td>\n",
       "      <td>114.67</td>\n",
       "      <td>78.44</td>\n",
       "      <td>45.0</td>\n",
       "      <td>0.0</td>\n",
       "      <td>4.32</td>\n",
       "    </tr>\n",
       "  </tbody>\n",
       "</table>\n",
       "</div>"
      ],
      "text/plain": [
       "     City_ID          City Country             Datetime    Lat     Lng  \\\n",
       "139      139     beisfjord      CN  2020-04-15 04:33:02  27.73  112.53   \n",
       "143      143  constitucion      CN  2020-04-15 04:33:02  30.30  108.85   \n",
       "217      217   deputatskiy      NG  2020-04-15 04:33:15  12.87   11.05   \n",
       "358      358          ibra      SA  2020-04-15 04:33:38  25.02   37.27   \n",
       "540      540       mersing      CN  2020-04-15 04:34:08  27.81  114.67   \n",
       "\n",
       "     Temperature  Humidity  Cloud Coverage  Wind Speed  \n",
       "139        79.03      48.0             0.0        8.37  \n",
       "143        71.58      30.0             0.0        2.93  \n",
       "217        77.00      15.0             0.0        9.13  \n",
       "358        74.79      45.0             0.0        7.76  \n",
       "540        78.44      45.0             0.0        4.32  "
      ]
     },
     "execution_count": 93,
     "metadata": {},
     "output_type": "execute_result"
    }
   ],
   "source": [
    "ideal_df = weather_df.loc[(weather_df.Temperature > 70) & (weather_df.Temperature <= 80) &\n",
    "                         (weather_df['Cloud Coverage'] == 0) & (weather_df['Wind Speed'] < 10)]\n",
    "\n",
    "ideal_df = ideal_df.dropna(0)\n",
    "\n",
    "ideal_df"
   ]
  },
  {
   "cell_type": "markdown",
   "metadata": {},
   "source": [
    "### Hotel Map\n",
    "* Store into variable named `hotel_df`.\n",
    "* Add a \"Hotel Name\" column to the DataFrame.\n",
    "* Set parameters to search for hotels with 5000 meters.\n",
    "* Hit the Google Places API for each city's coordinates.\n",
    "* Store the first Hotel result into the DataFrame.\n",
    "* Plot markers on top of the heatmap."
   ]
  },
  {
   "cell_type": "code",
   "execution_count": 94,
   "metadata": {},
   "outputs": [],
   "source": [
    "hotel_df = ideal_df\n",
    "hotel_df['Hotel Name'] = ''"
   ]
  },
  {
   "cell_type": "code",
   "execution_count": 95,
   "metadata": {},
   "outputs": [],
   "source": [
    "params = {\"radius\": 5000, \n",
    "          \"type\": \"lodging\",\n",
    "          \"key\": g_key}\n",
    "\n",
    "for index, row in hotel_df.iterrows():\n",
    "    \n",
    "    # get lat, lng from df\n",
    "    lat = row[\"Lat\"]\n",
    "    lng = row[\"Lng\"]\n",
    "\n",
    "    # change location each iteration while leaving original params in place\n",
    "    params[\"location\"] = f\"{lat},{lng}\"\n",
    "    \n",
    "    base_url = \"https://maps.googleapis.com/maps/api/place/nearbysearch/json\"\n",
    "    \n",
    "    hotel_name = requests.get(base_url, params=params)\n",
    "    \n",
    "    #print the url, avoid doing for public github repos in order to avoid exposing key\n",
    "#     print(hotel_name.url)\n",
    "    \n",
    "    hotel_name = hotel_name.json()\n",
    "    \n",
    "    try:\n",
    "        hotel_df.loc[index, \"Hotel Name\"] = hotel_name[\"results\"][0][\"name\"]\n",
    "    except:\n",
    "        print(\"Missing value... skipping...\")"
   ]
  },
  {
   "cell_type": "code",
   "execution_count": 96,
   "metadata": {},
   "outputs": [],
   "source": [
    "# NOTE: Do not change any of the code in this cell\n",
    "\n",
    "# Using the template add the hotel marks to the heatmap\n",
    "info_box_template = \"\"\"\n",
    "<dl>\n",
    "<dt>Name</dt><dd>{Hotel Name}</dd>\n",
    "<dt>City</dt><dd>{City}</dd>\n",
    "<dt>Country</dt><dd>{Country}</dd>\n",
    "</dl>\n",
    "\"\"\"\n",
    "# Store the DataFrame Row\n",
    "# NOTE: be sure to update with your DataFrame name\n",
    "hotel_info = [info_box_template.format(**row) for index, row in hotel_df.iterrows()]\n",
    "locations = hotel_df[[\"Lat\", \"Lng\"]]"
   ]
  },
  {
   "cell_type": "code",
   "execution_count": 97,
   "metadata": {},
   "outputs": [
    {
     "data": {
      "application/vnd.jupyter.widget-view+json": {
       "model_id": "739295e80ccd4c0dbc86e6a9bd9e6fd0",
       "version_major": 2,
       "version_minor": 0
      },
      "text/plain": [
       "Figure(layout=FigureLayout(height='420px'))"
      ]
     },
     "metadata": {},
     "output_type": "display_data"
    }
   ],
   "source": [
    "# Add marker layer ontop of heat map\n",
    "symbols = gmaps.marker_layer(locations, info_box_content = hotel_info)\n",
    "\n",
    "fig.add_layer(symbols)\n",
    "\n",
    "# Display figure\n",
    "fig"
   ]
  },
  {
   "cell_type": "code",
   "execution_count": null,
   "metadata": {},
   "outputs": [],
   "source": []
  }
 ],
 "metadata": {
  "kernelspec": {
   "display_name": "Python 3",
   "language": "python",
   "name": "python3"
  },
  "language_info": {
   "codemirror_mode": {
    "name": "ipython",
    "version": 3
   },
   "file_extension": ".py",
   "mimetype": "text/x-python",
   "name": "python",
   "nbconvert_exporter": "python",
   "pygments_lexer": "ipython3",
   "version": "3.6.10"
  },
  "latex_envs": {
   "LaTeX_envs_menu_present": true,
   "autoclose": false,
   "autocomplete": true,
   "bibliofile": "biblio.bib",
   "cite_by": "apalike",
   "current_citInitial": 1,
   "eqLabelWithNumbers": true,
   "eqNumInitial": 1,
   "hotkeys": {
    "equation": "Ctrl-E",
    "itemize": "Ctrl-I"
   },
   "labels_anchors": false,
   "latex_user_defs": false,
   "report_style_numbering": false,
   "user_envs_cfg": false
  }
 },
 "nbformat": 4,
 "nbformat_minor": 2
}
